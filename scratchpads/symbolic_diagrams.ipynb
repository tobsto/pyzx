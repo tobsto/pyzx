{
 "cells": [
  {
   "cell_type": "code",
   "execution_count": 1,
   "id": "spectacular-question",
   "metadata": {},
   "outputs": [
    {
     "ename": "TabError",
     "evalue": "inconsistent use of tabs and spaces in indentation (editor.py, line 135)",
     "output_type": "error",
     "traceback": [
      "Traceback \u001b[0;36m(most recent call last)\u001b[0m:\n",
      "  File \u001b[1;32m\"/home/tobias/programs/install/miniconda3/envs/pyzx_dev/lib/python3.8/site-packages/IPython/core/interactiveshell.py\"\u001b[0m, line \u001b[1;32m3437\u001b[0m, in \u001b[1;35mrun_code\u001b[0m\n    exec(code_obj, self.user_global_ns, self.user_ns)\n",
      "  File \u001b[1;32m\"<ipython-input-1-894497e2f0b5>\"\u001b[0m, line \u001b[1;32m1\u001b[0m, in \u001b[1;35m<module>\u001b[0m\n    import pyzx as zx\n",
      "\u001b[0;36m  File \u001b[0;32m\"/home/tobias/Dokumente/pyzx/pyzx/__init__.py\"\u001b[0;36m, line \u001b[0;32m44\u001b[0;36m, in \u001b[0;35m<module>\u001b[0;36m\u001b[0m\n\u001b[0;31m    from . import editor\u001b[0m\n",
      "\u001b[0;36m  File \u001b[0;32m\"/home/tobias/Dokumente/pyzx/pyzx/editor.py\"\u001b[0;36m, line \u001b[0;32m135\u001b[0m\n\u001b[0;31m    return Fraction(int(s))\u001b[0m\n\u001b[0m                           ^\u001b[0m\n\u001b[0;31mTabError\u001b[0m\u001b[0;31m:\u001b[0m inconsistent use of tabs and spaces in indentation\n"
     ]
    }
   ],
   "source": [
    "import pyzx as zx\n",
    "import sympy\n",
    "from fractions import Fraction"
   ]
  },
  {
   "cell_type": "code",
   "execution_count": null,
   "id": "universal-thumbnail",
   "metadata": {},
   "outputs": [],
   "source": [
    "gamma = sympy.Symbol('gamma')"
   ]
  },
  {
   "cell_type": "code",
   "execution_count": null,
   "id": "similar-dollar",
   "metadata": {},
   "outputs": [],
   "source": [
    "g=zx.graph.GraphSym()\n",
    "v= g.add_vertex(zx.VertexType.Z, qubit=0, row=1, phase=gamma)\n",
    "w= g.add_vertex(zx.VertexType.Z, qubit=1, row=1, phase=1)\n",
    "x= g.add_vertex(zx.VertexType.Z, qubit=2, row=1, phase=1)\n",
    "g.add_edge(g.edge(v,w),edgetype=zx.EdgeType.SIMPLE)"
   ]
  },
  {
   "cell_type": "code",
   "execution_count": null,
   "id": "ecological-rates",
   "metadata": {},
   "outputs": [],
   "source": [
    "zx.draw_matplotlib(g)"
   ]
  },
  {
   "cell_type": "code",
   "execution_count": null,
   "id": "ahead-adams",
   "metadata": {},
   "outputs": [],
   "source": [
    "g.phase(0)"
   ]
  },
  {
   "cell_type": "code",
   "execution_count": null,
   "id": "pending-making",
   "metadata": {},
   "outputs": [],
   "source": [
    "e = zx.editor.edit(g)"
   ]
  },
  {
   "cell_type": "code",
   "execution_count": null,
   "id": "specialized-shoulder",
   "metadata": {},
   "outputs": [],
   "source": [
    "gamma = sympy.Symbol('gamma')"
   ]
  },
  {
   "cell_type": "code",
   "execution_count": null,
   "id": "unsigned-offset",
   "metadata": {},
   "outputs": [],
   "source": [
    "type(Fraction(numerator=2, denominator=1) * gamma)"
   ]
  },
  {
   "cell_type": "code",
   "execution_count": null,
   "id": "hawaiian-dream",
   "metadata": {},
   "outputs": [],
   "source": []
  }
 ],
 "metadata": {
  "kernelspec": {
   "display_name": "Python 3",
   "language": "python",
   "name": "python3"
  },
  "language_info": {
   "codemirror_mode": {
    "name": "ipython",
    "version": 3
   },
   "file_extension": ".py",
   "mimetype": "text/x-python",
   "name": "python",
   "nbconvert_exporter": "python",
   "pygments_lexer": "ipython3",
   "version": "3.8.8"
  }
 },
 "nbformat": 4,
 "nbformat_minor": 5
}
